{
 "cells": [
  {
   "cell_type": "markdown",
   "metadata": {
    "id": "RadFilGjGXTI"
   },
   "source": [
    "\n",
    "# <center>Multiple Regresi Linear</center>\n",
    "\n",
    "\n",
    "#### Tentang Notebook\n",
    "Dalam notebook ini, akan dipelajari cara menggunakan scikit-learn untuk mengimplementasikan regresi linier variabel jamak. Data yang dipakai adalah kumpulan data yang terkait dengan, ukuran mesin, silinder, konsumsi bahan bakar dengan emisi karbon dioksida mobil. Kemudian, data dibagi menjadi data pelatihan dan data pengujian, kemudian pembuatan model menggunakan dataset pelatihan, evaluasi model menggunakan dataset pengujian, dan akhirnya penggunaan model untuk memprediksi nilai yang tidak diketahui\n"
   ]
  },
  {
   "cell_type": "markdown",
   "metadata": {
    "id": "12OBgXHCGXTM"
   },
   "source": [
    "### Import packages yang diperlukan"
   ]
  },
  {
   "cell_type": "code",
   "execution_count": 5,
   "metadata": {
    "id": "OkrAyKSAGXTP"
   },
   "outputs": [],
   "source": [
    "import matplotlib.pyplot as plt\n",
    "import pandas as pd\n",
    "import pylab as pl\n",
    "import numpy as np\n",
    "\n",
    "import pickle\n",
    "%matplotlib inline"
   ]
  },
  {
   "cell_type": "markdown",
   "metadata": {
    "id": "Tg7ro0zGGXTa"
   },
   "source": [
    "### Pengunduhan Data\n",
    "Untuk mengunduh data, gunakan !wget dengan URL yang diberikan."
   ]
  },
  {
   "cell_type": "code",
   "execution_count": 6,
   "metadata": {
    "colab": {
     "base_uri": "https://localhost:8080/"
    },
    "id": "LnGW9d8wGXTd",
    "outputId": "dfc2bdf6-320f-4796-823b-bc6027e2e3b3",
    "scrolled": true
   },
   "outputs": [
    {
     "name": "stderr",
     "output_type": "stream",
     "text": [
      "--2021-12-10 15:29:51--  https://raw.githubusercontent.com/SandalsPhone/umm-p-hmm-tbdin2/main/DKI%20JAKARTA%2030-11-20%20to%2026-11-21%20Jakarta%20Pusat.csv\n",
      "Resolving raw.githubusercontent.com (raw.githubusercontent.com)... 185.199.110.133, 185.199.109.133, 185.199.111.133, ...\n",
      "Connecting to raw.githubusercontent.com (raw.githubusercontent.com)|185.199.110.133|:443... connected.\n",
      "WARNING: cannot verify raw.githubusercontent.com's certificate, issued by 'CN=DigiCert SHA2 High Assurance Server CA,OU=www.digicert.com,O=DigiCert Inc,C=US':\n",
      "  Unable to locally verify the issuer's authority.\n",
      "HTTP request sent, awaiting response... 200 OK\n",
      "Length: 13690 (13K) [text/plain]\n",
      "Saving to: 'iya.csv'\n",
      "\n",
      "     0K .......... ...                                        100%  409K=0.03s\n",
      "\n",
      "2021-12-10 15:30:07 (409 KB/s) - 'iya.csv' saved [13690/13690]\n",
      "\n"
     ]
    }
   ],
   "source": [
    "!wget -O iya.csv https://raw.githubusercontent.com/SandalsPhone/umm-p-hmm-tbdin2/main/DKI%20JAKARTA%2030-11-20%20to%2026-11-21%20Jakarta%20Pusat.csv --no-check-certificate"
   ]
  },
  {
   "cell_type": "code",
   "execution_count": 7,
   "metadata": {
    "colab": {
     "base_uri": "https://localhost:8080/",
     "height": 278
    },
    "id": "wqYrHtvzGXTq",
    "outputId": "e501970e-f7af-4895-9d4c-b4618079f9b6"
   },
   "outputs": [
    {
     "data": {
      "text/html": [
       "<div>\n",
       "<style scoped>\n",
       "    .dataframe tbody tr th:only-of-type {\n",
       "        vertical-align: middle;\n",
       "    }\n",
       "\n",
       "    .dataframe tbody tr th {\n",
       "        vertical-align: top;\n",
       "    }\n",
       "\n",
       "    .dataframe thead th {\n",
       "        text-align: right;\n",
       "    }\n",
       "</style>\n",
       "<table border=\"1\" class=\"dataframe\">\n",
       "  <thead>\n",
       "    <tr style=\"text-align: right;\">\n",
       "      <th></th>\n",
       "      <th>Tanggal</th>\n",
       "      <th>Beras</th>\n",
       "      <th>Bawang_Merah</th>\n",
       "      <th>Bawang_Putih</th>\n",
       "      <th>Cabai_Merah</th>\n",
       "      <th>Cabai_Rawit</th>\n",
       "      <th>TAVG</th>\n",
       "      <th>RH_AVG</th>\n",
       "      <th>RR</th>\n",
       "      <th>ss</th>\n",
       "    </tr>\n",
       "  </thead>\n",
       "  <tbody>\n",
       "    <tr>\n",
       "      <th>0</th>\n",
       "      <td>30/11/2020</td>\n",
       "      <td>13450</td>\n",
       "      <td>37500</td>\n",
       "      <td>37500</td>\n",
       "      <td>53350</td>\n",
       "      <td>40400</td>\n",
       "      <td>27.6</td>\n",
       "      <td>81</td>\n",
       "      <td>1.0</td>\n",
       "      <td>1.4</td>\n",
       "    </tr>\n",
       "    <tr>\n",
       "      <th>1</th>\n",
       "      <td>1/12/2020</td>\n",
       "      <td>13450</td>\n",
       "      <td>37500</td>\n",
       "      <td>37500</td>\n",
       "      <td>53350</td>\n",
       "      <td>40400</td>\n",
       "      <td>29.2</td>\n",
       "      <td>73</td>\n",
       "      <td>8888.0</td>\n",
       "      <td>1.0</td>\n",
       "    </tr>\n",
       "    <tr>\n",
       "      <th>2</th>\n",
       "      <td>2/12/2020</td>\n",
       "      <td>13450</td>\n",
       "      <td>37500</td>\n",
       "      <td>37500</td>\n",
       "      <td>54150</td>\n",
       "      <td>41650</td>\n",
       "      <td>29.6</td>\n",
       "      <td>75</td>\n",
       "      <td>0.0</td>\n",
       "      <td>8.1</td>\n",
       "    </tr>\n",
       "    <tr>\n",
       "      <th>3</th>\n",
       "      <td>3/12/2020</td>\n",
       "      <td>13450</td>\n",
       "      <td>37500</td>\n",
       "      <td>37500</td>\n",
       "      <td>62500</td>\n",
       "      <td>41650</td>\n",
       "      <td>26.7</td>\n",
       "      <td>84</td>\n",
       "      <td>41.4</td>\n",
       "      <td>7.8</td>\n",
       "    </tr>\n",
       "    <tr>\n",
       "      <th>4</th>\n",
       "      <td>4/12/2020</td>\n",
       "      <td>13450</td>\n",
       "      <td>37500</td>\n",
       "      <td>37500</td>\n",
       "      <td>64600</td>\n",
       "      <td>43350</td>\n",
       "      <td>27.9</td>\n",
       "      <td>84</td>\n",
       "      <td>2.2</td>\n",
       "      <td>0.0</td>\n",
       "    </tr>\n",
       "  </tbody>\n",
       "</table>\n",
       "</div>"
      ],
      "text/plain": [
       "      Tanggal  Beras  Bawang_Merah  Bawang_Putih  Cabai_Merah  Cabai_Rawit  \\\n",
       "0  30/11/2020  13450         37500         37500        53350        40400   \n",
       "1   1/12/2020  13450         37500         37500        53350        40400   \n",
       "2   2/12/2020  13450         37500         37500        54150        41650   \n",
       "3   3/12/2020  13450         37500         37500        62500        41650   \n",
       "4   4/12/2020  13450         37500         37500        64600        43350   \n",
       "\n",
       "   TAVG  RH_AVG      RR   ss  \n",
       "0  27.6      81     1.0  1.4  \n",
       "1  29.2      73  8888.0  1.0  \n",
       "2  29.6      75     0.0  8.1  \n",
       "3  26.7      84    41.4  7.8  \n",
       "4  27.9      84     2.2  0.0  "
      ]
     },
     "execution_count": 7,
     "metadata": {},
     "output_type": "execute_result"
    }
   ],
   "source": [
    "df = pd.read_csv(\"iya.csv\")\n",
    "\n",
    "# melihat dataset\n",
    "df.head()\n",
    "\n"
   ]
  },
  {
   "cell_type": "markdown",
   "metadata": {
    "id": "4BKtxdQUGXTx"
   },
   "source": [
    "### Eksplorasi Data\n",
    "Eksplorasi deskriptif data yang diunduh."
   ]
  },
  {
   "cell_type": "code",
   "execution_count": 8,
   "metadata": {
    "colab": {
     "base_uri": "https://localhost:8080/",
     "height": 320
    },
    "id": "oofcfrhGGXTz",
    "outputId": "898c4bc3-7d64-4ad9-e0fd-bffada231bc8"
   },
   "outputs": [
    {
     "data": {
      "text/html": [
       "<div>\n",
       "<style scoped>\n",
       "    .dataframe tbody tr th:only-of-type {\n",
       "        vertical-align: middle;\n",
       "    }\n",
       "\n",
       "    .dataframe tbody tr th {\n",
       "        vertical-align: top;\n",
       "    }\n",
       "\n",
       "    .dataframe thead th {\n",
       "        text-align: right;\n",
       "    }\n",
       "</style>\n",
       "<table border=\"1\" class=\"dataframe\">\n",
       "  <thead>\n",
       "    <tr style=\"text-align: right;\">\n",
       "      <th></th>\n",
       "      <th>Beras</th>\n",
       "      <th>Bawang_Merah</th>\n",
       "      <th>Bawang_Putih</th>\n",
       "      <th>Cabai_Merah</th>\n",
       "      <th>Cabai_Rawit</th>\n",
       "      <th>TAVG</th>\n",
       "      <th>RH_AVG</th>\n",
       "      <th>RR</th>\n",
       "      <th>ss</th>\n",
       "    </tr>\n",
       "  </thead>\n",
       "  <tbody>\n",
       "    <tr>\n",
       "      <th>count</th>\n",
       "      <td>243.000000</td>\n",
       "      <td>243.000000</td>\n",
       "      <td>243.000000</td>\n",
       "      <td>243.000000</td>\n",
       "      <td>243.000000</td>\n",
       "      <td>243.000000</td>\n",
       "      <td>243.000000</td>\n",
       "      <td>243.000000</td>\n",
       "      <td>243.000000</td>\n",
       "    </tr>\n",
       "    <tr>\n",
       "      <th>mean</th>\n",
       "      <td>13354.732510</td>\n",
       "      <td>35973.868313</td>\n",
       "      <td>35164.403292</td>\n",
       "      <td>47917.078189</td>\n",
       "      <td>55902.880658</td>\n",
       "      <td>28.548148</td>\n",
       "      <td>78.378601</td>\n",
       "      <td>664.632922</td>\n",
       "      <td>5.046914</td>\n",
       "    </tr>\n",
       "    <tr>\n",
       "      <th>std</th>\n",
       "      <td>86.412848</td>\n",
       "      <td>3531.933170</td>\n",
       "      <td>1164.407749</td>\n",
       "      <td>14109.602941</td>\n",
       "      <td>23605.829314</td>\n",
       "      <td>0.989462</td>\n",
       "      <td>6.228158</td>\n",
       "      <td>2330.767406</td>\n",
       "      <td>3.392045</td>\n",
       "    </tr>\n",
       "    <tr>\n",
       "      <th>min</th>\n",
       "      <td>13250.000000</td>\n",
       "      <td>26650.000000</td>\n",
       "      <td>33650.000000</td>\n",
       "      <td>28350.000000</td>\n",
       "      <td>27900.000000</td>\n",
       "      <td>25.300000</td>\n",
       "      <td>61.000000</td>\n",
       "      <td>0.000000</td>\n",
       "      <td>0.000000</td>\n",
       "    </tr>\n",
       "    <tr>\n",
       "      <th>25%</th>\n",
       "      <td>13250.000000</td>\n",
       "      <td>33350.000000</td>\n",
       "      <td>34150.000000</td>\n",
       "      <td>33350.000000</td>\n",
       "      <td>35400.000000</td>\n",
       "      <td>27.900000</td>\n",
       "      <td>74.000000</td>\n",
       "      <td>0.000000</td>\n",
       "      <td>1.850000</td>\n",
       "    </tr>\n",
       "    <tr>\n",
       "      <th>50%</th>\n",
       "      <td>13400.000000</td>\n",
       "      <td>35850.000000</td>\n",
       "      <td>35000.000000</td>\n",
       "      <td>50000.000000</td>\n",
       "      <td>49600.000000</td>\n",
       "      <td>28.800000</td>\n",
       "      <td>79.000000</td>\n",
       "      <td>0.200000</td>\n",
       "      <td>5.200000</td>\n",
       "    </tr>\n",
       "    <tr>\n",
       "      <th>75%</th>\n",
       "      <td>13450.000000</td>\n",
       "      <td>37750.000000</td>\n",
       "      <td>35850.000000</td>\n",
       "      <td>60000.000000</td>\n",
       "      <td>80850.000000</td>\n",
       "      <td>29.250000</td>\n",
       "      <td>83.000000</td>\n",
       "      <td>8.000000</td>\n",
       "      <td>7.950000</td>\n",
       "    </tr>\n",
       "    <tr>\n",
       "      <th>max</th>\n",
       "      <td>13450.000000</td>\n",
       "      <td>45000.000000</td>\n",
       "      <td>38350.000000</td>\n",
       "      <td>72100.000000</td>\n",
       "      <td>109150.000000</td>\n",
       "      <td>30.600000</td>\n",
       "      <td>93.000000</td>\n",
       "      <td>8888.000000</td>\n",
       "      <td>11.200000</td>\n",
       "    </tr>\n",
       "  </tbody>\n",
       "</table>\n",
       "</div>"
      ],
      "text/plain": [
       "              Beras  Bawang_Merah  Bawang_Putih   Cabai_Merah    Cabai_Rawit  \\\n",
       "count    243.000000    243.000000    243.000000    243.000000     243.000000   \n",
       "mean   13354.732510  35973.868313  35164.403292  47917.078189   55902.880658   \n",
       "std       86.412848   3531.933170   1164.407749  14109.602941   23605.829314   \n",
       "min    13250.000000  26650.000000  33650.000000  28350.000000   27900.000000   \n",
       "25%    13250.000000  33350.000000  34150.000000  33350.000000   35400.000000   \n",
       "50%    13400.000000  35850.000000  35000.000000  50000.000000   49600.000000   \n",
       "75%    13450.000000  37750.000000  35850.000000  60000.000000   80850.000000   \n",
       "max    13450.000000  45000.000000  38350.000000  72100.000000  109150.000000   \n",
       "\n",
       "             TAVG      RH_AVG           RR          ss  \n",
       "count  243.000000  243.000000   243.000000  243.000000  \n",
       "mean    28.548148   78.378601   664.632922    5.046914  \n",
       "std      0.989462    6.228158  2330.767406    3.392045  \n",
       "min     25.300000   61.000000     0.000000    0.000000  \n",
       "25%     27.900000   74.000000     0.000000    1.850000  \n",
       "50%     28.800000   79.000000     0.200000    5.200000  \n",
       "75%     29.250000   83.000000     8.000000    7.950000  \n",
       "max     30.600000   93.000000  8888.000000   11.200000  "
      ]
     },
     "execution_count": 8,
     "metadata": {},
     "output_type": "execute_result"
    }
   ],
   "source": [
    "# merangkum data\n",
    "df.describe()"
   ]
  },
  {
   "cell_type": "markdown",
   "metadata": {
    "id": "VsUKG_5RGXT5"
   },
   "source": [
    "Beberapa fitur dapat dieksplorasi dengan cara berikut."
   ]
  },
  {
   "cell_type": "code",
   "execution_count": 9,
   "metadata": {
    "colab": {
     "base_uri": "https://localhost:8080/",
     "height": 362
    },
    "id": "T8BaexHKGXT8",
    "outputId": "45ea9c72-e2b1-4232-8b6e-6bc1eeb5eaec"
   },
   "outputs": [
    {
     "data": {
      "text/html": [
       "<div>\n",
       "<style scoped>\n",
       "    .dataframe tbody tr th:only-of-type {\n",
       "        vertical-align: middle;\n",
       "    }\n",
       "\n",
       "    .dataframe tbody tr th {\n",
       "        vertical-align: top;\n",
       "    }\n",
       "\n",
       "    .dataframe thead th {\n",
       "        text-align: right;\n",
       "    }\n",
       "</style>\n",
       "<table border=\"1\" class=\"dataframe\">\n",
       "  <thead>\n",
       "    <tr style=\"text-align: right;\">\n",
       "      <th></th>\n",
       "      <th>Cabai_Merah</th>\n",
       "      <th>TAVG</th>\n",
       "      <th>RH_AVG</th>\n",
       "      <th>ss</th>\n",
       "    </tr>\n",
       "  </thead>\n",
       "  <tbody>\n",
       "    <tr>\n",
       "      <th>0</th>\n",
       "      <td>53350</td>\n",
       "      <td>27.6</td>\n",
       "      <td>81</td>\n",
       "      <td>1.4</td>\n",
       "    </tr>\n",
       "    <tr>\n",
       "      <th>1</th>\n",
       "      <td>53350</td>\n",
       "      <td>29.2</td>\n",
       "      <td>73</td>\n",
       "      <td>1.0</td>\n",
       "    </tr>\n",
       "    <tr>\n",
       "      <th>2</th>\n",
       "      <td>54150</td>\n",
       "      <td>29.6</td>\n",
       "      <td>75</td>\n",
       "      <td>8.1</td>\n",
       "    </tr>\n",
       "    <tr>\n",
       "      <th>3</th>\n",
       "      <td>62500</td>\n",
       "      <td>26.7</td>\n",
       "      <td>84</td>\n",
       "      <td>7.8</td>\n",
       "    </tr>\n",
       "    <tr>\n",
       "      <th>4</th>\n",
       "      <td>64600</td>\n",
       "      <td>27.9</td>\n",
       "      <td>84</td>\n",
       "      <td>0.0</td>\n",
       "    </tr>\n",
       "    <tr>\n",
       "      <th>5</th>\n",
       "      <td>67500</td>\n",
       "      <td>25.7</td>\n",
       "      <td>90</td>\n",
       "      <td>0.0</td>\n",
       "    </tr>\n",
       "    <tr>\n",
       "      <th>6</th>\n",
       "      <td>66650</td>\n",
       "      <td>28.8</td>\n",
       "      <td>80</td>\n",
       "      <td>0.0</td>\n",
       "    </tr>\n",
       "    <tr>\n",
       "      <th>7</th>\n",
       "      <td>65850</td>\n",
       "      <td>28.1</td>\n",
       "      <td>81</td>\n",
       "      <td>4.9</td>\n",
       "    </tr>\n",
       "    <tr>\n",
       "      <th>8</th>\n",
       "      <td>69150</td>\n",
       "      <td>28.5</td>\n",
       "      <td>81</td>\n",
       "      <td>2.4</td>\n",
       "    </tr>\n",
       "    <tr>\n",
       "      <th>9</th>\n",
       "      <td>67500</td>\n",
       "      <td>28.1</td>\n",
       "      <td>79</td>\n",
       "      <td>1.3</td>\n",
       "    </tr>\n",
       "  </tbody>\n",
       "</table>\n",
       "</div>"
      ],
      "text/plain": [
       "   Cabai_Merah  TAVG  RH_AVG   ss\n",
       "0        53350  27.6      81  1.4\n",
       "1        53350  29.2      73  1.0\n",
       "2        54150  29.6      75  8.1\n",
       "3        62500  26.7      84  7.8\n",
       "4        64600  27.9      84  0.0\n",
       "5        67500  25.7      90  0.0\n",
       "6        66650  28.8      80  0.0\n",
       "7        65850  28.1      81  4.9\n",
       "8        69150  28.5      81  2.4\n",
       "9        67500  28.1      79  1.3"
      ]
     },
     "execution_count": 9,
     "metadata": {},
     "output_type": "execute_result"
    }
   ],
   "source": [
    "cdf = df[['Cabai_Merah','TAVG','RH_AVG','ss']]\n",
    "cdf.head(10)"
   ]
  },
  {
   "cell_type": "markdown",
   "metadata": {
    "id": "uRAoa2f9GXUC"
   },
   "source": [
    "Fitur-fitur tersebut dapat diplot sebagai berikut:"
   ]
  },
  {
   "cell_type": "code",
   "execution_count": 10,
   "metadata": {
    "colab": {
     "base_uri": "https://localhost:8080/",
     "height": 281
    },
    "id": "byd4CsKAGXUF",
    "outputId": "d1593473-cfd0-4416-b108-8cdbae3fe046"
   },
   "outputs": [
    {
     "data": {
      "image/png": "[encoded data removed]",
      "text/plain": [
       "<Figure size 432x288 with 4 Axes>"
      ]
     },
     "metadata": {
      "needs_background": "light"
     },
     "output_type": "display_data"
    }
   ],
   "source": [
    "viz = cdf[['Cabai_Merah','TAVG','RH_AVG','ss']]\n",
    "viz.hist()\n",
    "plt.show()"
   ]
  },
  {
   "cell_type": "markdown",
   "metadata": {
    "id": "u9NwOtitGXUM"
   },
   "source": [
    "Plot fitur-fitur vs emisi dapat dibuat dan dapat dilihat linearitas hubungannya."
   ]
  },
  {
   "cell_type": "code",
   "execution_count": 11,
   "metadata": {
    "colab": {
     "base_uri": "https://localhost:8080/",
     "height": 281
    },
    "id": "LPzcACf5GXUO",
    "outputId": "b99e1d77-625e-4c47-a1e3-6aec04e5d5e4"
   },
   "outputs": [
    {
     "data": {
      "image/png": "[encoded data removed]",
      "text/plain": [
       "<Figure size 432x288 with 1 Axes>"
      ]
     },
     "metadata": {
      "needs_background": "light"
     },
     "output_type": "display_data"
    }
   ],
   "source": [
    "plt.scatter(cdf.TAVG, cdf.Cabai_Merah,  color='blue')\n",
    "plt.xlabel(\"Temperatur rata-rata\")\n",
    "plt.ylabel(\"Harga Cabai_Merah\")\n",
    "plt.show()"
   ]
  },
  {
   "cell_type": "code",
   "execution_count": 12,
   "metadata": {
    "colab": {
     "base_uri": "https://localhost:8080/",
     "height": 280
    },
    "id": "g2eDWcs-GXUU",
    "outputId": "a6d99637-0af8-4cc9-b53a-9acdc4890613",
    "scrolled": true
   },
   "outputs": [
    {
     "data": {
      "image/png": "[encoded data removed]",
      "text/plain": [
       "<Figure size 432x288 with 1 Axes>"
      ]
     },
     "metadata": {
      "needs_background": "light"
     },
     "output_type": "display_data"
    }
   ],
   "source": [
    "plt.scatter(cdf.ss, cdf.Cabai_Merah,  color='blue')\n",
    "plt.xlabel(\"Lamanya penyinaran matahari\")\n",
    "plt.ylabel(\"Harga Cabai_Merah\")\n",
    "plt.show()"
   ]
  },
  {
   "cell_type": "code",
   "execution_count": null,
   "metadata": {
    "colab": {
     "base_uri": "https://localhost:8080/",
     "height": 280
    },
    "id": "pRHixp2uuTJ-",
    "outputId": "b5d0d2d8-8950-4ecb-ccd1-65e97016f902"
   },
   "outputs": [],
   "source": []
  },
  {
   "cell_type": "code",
   "execution_count": 13,
   "metadata": {},
   "outputs": [
    {
     "data": {
      "image/png": "[encoded data removed]",
      "text/plain": [
       "<Figure size 432x288 with 1 Axes>"
      ]
     },
     "metadata": {
      "needs_background": "light"
     },
     "output_type": "display_data"
    }
   ],
   "source": [
    "plt.scatter(cdf.RH_AVG, cdf.Cabai_Merah,  color='blue')\n",
    "plt.xlabel(\"Kelembapan rata-rata\")\n",
    "plt.ylabel(\"Harga Cabai_Merah\")\n",
    "plt.show()"
   ]
  },
  {
   "cell_type": "markdown",
   "metadata": {
    "id": "zWMnFI1KGXUl"
   },
   "source": [
    "#### Pembuatan dataset pelatihan dan pengujian\n",
    "Pemisahan data latih/uji melibatkan pemisahan dataset menjadi dataset pelatihan dan pengujian, yang saling eksklusif. Setelah itu, dataset pelatihan dapat digunakan untuk membuat model dan dataset pengujian untuk pengujian.\n",
    "Hal ini akan memberikan evaluasi yang lebih akurat pada akurasi out-of-sample karena dataset pengujian bukan merupakan bagian dari dataset yang telah digunakan untuk melatih data. Ini lebih realistis untuk masalah dunia nyata.\n",
    "\n",
    "Ini berarti bahwa hasil dari setiap titik data dalam kumpulan data ini diketahui, sehingga sangat bagus untuk data pengujian. Dataset pengujian belum digunakan untuk melatih model, sehingga model tidak memiliki pengetahuan tentang hasil dari data ini, sehingga dapat disebut pengujian di luar sampel.\n",
    "\n"
   ]
  },
  {
   "cell_type": "code",
   "execution_count": 14,
   "metadata": {
    "id": "ss6ZUnQiGXUn"
   },
   "outputs": [],
   "source": [
    "msk = np.random.rand(len(df)) < 0.7\n",
    "train = cdf[msk]\n",
    "test = cdf[~msk]"
   ]
  },
  {
   "cell_type": "markdown",
   "metadata": {
    "id": "cHwfHZ2gGXUt"
   },
   "source": [
    "### Model Regresi Variabel Jamak\n",
    "Regresi Linier cocok dengan model linier dengan koefisien B = (B1, ..., Bn) untuk meminimalkan 'jumlah kuadrat sisa (residu)' antara x bebas (X1, ..., Xn) dalam kumpulan data, dan y tak bebas dengan pendekatan linier."
   ]
  },
  {
   "cell_type": "markdown",
   "metadata": {
    "id": "X7v6TnZmGXUu"
   },
   "source": [
    "#### Distribusi Data Pelatihan"
   ]
  },
  {
   "cell_type": "code",
   "execution_count": 15,
   "metadata": {
    "colab": {
     "base_uri": "https://localhost:8080/",
     "height": 280
    },
    "id": "i7hADn3JGXUx",
    "outputId": "ee96abb5-a656-486b-93d1-a2233df82c4c"
   },
   "outputs": [
    {
     "data": {
      "image/png": "[encoded data removed]",
      "text/plain": [
       "<Figure size 432x288 with 1 Axes>"
      ]
     },
     "metadata": {
      "needs_background": "light"
     },
     "output_type": "display_data"
    }
   ],
   "source": [
    "plt.scatter(cdf.TAVG, cdf.Cabai_Merah,  color='blue')\n",
    "plt.xlabel(\"Temperatur rata-rata\")\n",
    "plt.ylabel(\"Harga Cabai_Merah\")\n",
    "plt.show()"
   ]
  },
  {
   "cell_type": "code",
   "execution_count": 16,
   "metadata": {
    "colab": {
     "base_uri": "https://localhost:8080/",
     "height": 280
    },
    "id": "ZMveGmAuvO8g",
    "outputId": "4337a7ca-d96c-495e-fa66-27afed0a9050"
   },
   "outputs": [
    {
     "data": {
      "image/png": "[encoded data removed]",
      "text/plain": [
       "<Figure size 432x288 with 1 Axes>"
      ]
     },
     "metadata": {
      "needs_background": "light"
     },
     "output_type": "display_data"
    }
   ],
   "source": [
    "plt.scatter(cdf.ss, cdf.Cabai_Merah,  color='blue')\n",
    "plt.xlabel(\"Lamanya penyinaran matahari\")\n",
    "plt.ylabel(\"Harga Cabai_Merah\")\n",
    "plt.show()"
   ]
  },
  {
   "cell_type": "code",
   "execution_count": null,
   "metadata": {
    "colab": {
     "base_uri": "https://localhost:8080/",
     "height": 280
    },
    "id": "1ABn1ogXvVMz",
    "outputId": "68de0854-3390-4c04-8622-5ee5a35374a8"
   },
   "outputs": [],
   "source": []
  },
  {
   "cell_type": "code",
   "execution_count": 17,
   "metadata": {},
   "outputs": [
    {
     "data": {
      "image/png": "[encoded data removed]",
      "text/plain": [
       "<Figure size 432x288 with 1 Axes>"
      ]
     },
     "metadata": {
      "needs_background": "light"
     },
     "output_type": "display_data"
    }
   ],
   "source": [
    "plt.scatter(cdf.RH_AVG, cdf.Cabai_Merah,  color='blue')\n",
    "plt.xlabel(\"Temperatur rata-rata\")\n",
    "plt.ylabel(\"Harga Cabai_Merah\")\n",
    "plt.show()"
   ]
  },
  {
   "cell_type": "markdown",
   "metadata": {
    "id": "51ZzP2KAGXU1"
   },
   "source": [
    "#### Pemodelan\n",
    "Menggunakan sklearn package untuk memodelkan data."
   ]
  },
  {
   "cell_type": "code",
   "execution_count": 18,
   "metadata": {
    "colab": {
     "base_uri": "https://localhost:8080/"
    },
    "id": "GzwLT0XMGXU3",
    "outputId": "9860dc3b-bbb8-4cb9-9444-51dbec06edbb"
   },
   "outputs": [
    {
     "name": "stdout",
     "output_type": "stream",
     "text": [
      "Coefficients:  [[ 395.62943931 1405.12408483 -581.01521134]]\n",
      "Intercept:  [-70900.53858031]\n"
     ]
    }
   ],
   "source": [
    "from sklearn import linear_model\n",
    "regr = linear_model.LinearRegression()\n",
    "train_x = np.asanyarray(train[['TAVG','RH_AVG','ss']])\n",
    "train_y = np.asanyarray(train[['Cabai_Merah']])\n",
    "regr.fit (train_x, train_y)\n",
    "# The coefficients\n",
    "print ('Coefficients: ', regr.coef_)\n",
    "print ('Intercept: ',regr.intercept_)"
   ]
  },
  {
   "cell_type": "markdown",
   "metadata": {
    "id": "zzOWfCHdGXU7"
   },
   "source": [
    "Seperti disebutkan sebelumnya, __koefisien__ dan __intercept__ dalam regresi linier sederhana, adalah parameter dari garis yang cocok dengan data.\n",
    "Perhatikan bahwa semua data harus tersedia untuk menghitung parameter.\n"
   ]
  },
  {
   "cell_type": "markdown",
   "metadata": {
    "id": "JNun7eEtGXVE"
   },
   "source": [
    "#### Evaluasi\n",
    "Nilai aktual dan nilai prediksi dapat dibandingkan untuk menghitung akurasi dari model regresi. Metrik evaluasi sangat penting untuk pengembangan model karena memberikan pengetahuan untuk perbaikan model.\n",
    "\n",
    "Ada berbagai metrik untuk evaluasi model, misalnya MSE sebagai error untuk mengetahui akurasi dari model yang dibangun yang dihitung dari MSE model terhadap data pengujian: \n",
    "    - Mean Absolute Error (MAE): Rerata dari nilai absolut dari error. MAE adalah metrik paling mudah dipahami karena hanya rata-rata dari error.\n",
    "    - Mean Squared Error (MSE): adalah rerata dari error dikuadratkan. MSE lebih populer dibanding MAE karena fokus pada error yang besar karena dikuadratkan sehingga berdampak lebih besar terhadap error yang lebih besar dibandingkan error yang lebih kecil.\n",
    "    - Root Mean Squared Error (RMSE).\n",
    "    - R-squared bukan error namun metrik yang populer yang merepresentasikan sejauh mana data cocok dengan garis regresi yang didapatkan. Semakin besar R-squared akan semaki baik pencocokan garis terhadap data. Nilai terbaik adalah 1.0 dan dapat bernilai negatif.\n"
   ]
  },
  {
   "cell_type": "code",
   "execution_count": 19,
   "metadata": {
    "colab": {
     "base_uri": "https://localhost:8080/"
    },
    "id": "CinerFdQGXVE",
    "outputId": "3a33b4d1-f832-4c68-93c3-24baee11302e",
    "scrolled": true
   },
   "outputs": [
    {
     "name": "stdout",
     "output_type": "stream",
     "text": [
      "Mean absolute error: 9309.15\n",
      "Residual sum of squares (MSE): 130947558.26\n",
      "R2-score: -0.44\n"
     ]
    }
   ],
   "source": [
    "from sklearn.metrics import r2_score\n",
    "\n",
    "test_x = np.asanyarray(test[['TAVG','RH_AVG','ss']])\n",
    "test_y = np.asanyarray(test[['Cabai_Merah']])\n",
    "test_y_ = regr.predict(test_x)\n",
    "\n",
    "print(\"Mean absolute error: %.2f\" % np.mean(np.absolute(test_y_ - test_y)))\n",
    "print(\"Residual sum of squares (MSE): %.2f\" % np.mean((test_y_ - test_y) ** 2))\n",
    "print(\"R2-score: %.2f\" % r2_score(test_y_ , test_y) )"
   ]
  },
  {
   "cell_type": "code",
   "execution_count": 20,
   "metadata": {},
   "outputs": [],
   "source": [
    "# Read as bytes\n",
    "with open('JupyMain.ipynb', 'rb') as f:\n",
    "    data =  f.read()\n",
    "\n",
    "# Save as pickle\n",
    "with open('JupyMain.pkl', 'wb') as f:\n",
    "    pickle.dump(data, f)\n",
    "    \n",
    "    # Load as pickle\n",
    "with open('JupyMain.pkl', 'rb') as f:\n",
    "   data_pickle = pickle.load(f)"
   ]
  },
  {
   "cell_type": "code",
   "execution_count": null,
   "metadata": {},
   "outputs": [],
   "source": []
  },
  {
   "cell_type": "code",
   "execution_count": null,
   "metadata": {},
   "outputs": [],
   "source": []
  }
 ],
 "metadata": {
  "colab": {
   "collapsed_sections": [],
   "name": "Regresi Linear Variabel Jamak.ipynb",
   "provenance": []
  },
  "kernelspec": {
   "display_name": "Python 3 (ipykernel)",
   "language": "python",
   "name": "python3"
  },
  "language_info": {
   "codemirror_mode": {
    "name": "ipython",
    "version": 3
   },
   "file_extension": ".py",
   "mimetype": "text/x-python",
   "name": "python",
   "nbconvert_exporter": "python",
   "pygments_lexer": "ipython3",
   "version": "3.9.7"
  }
 },
 "nbformat": 4,
 "nbformat_minor": 1
}
